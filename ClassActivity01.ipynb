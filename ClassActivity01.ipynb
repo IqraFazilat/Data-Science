{
 "cells": [
  {
   "cell_type": "code",
   "execution_count": 1,
   "id": "a8e09a32",
   "metadata": {},
   "outputs": [
    {
     "name": "stdout",
     "output_type": "stream",
     "text": [
      "Happy Ramdzan! Adeel\n",
      "Happy Ramdzan! Ali\n",
      "Happy Ramdzan! Noor\n",
      "Happy Ramdzan! Ahmad\n",
      "Happy Ramdzan! Asif\n",
      "Done!\n"
     ]
    }
   ],
   "source": [
    "friends = ['Adeel', 'Ali', 'Noor', 'Ahmad', 'Asif']\n",
    "\n",
    "for friend in friends:\n",
    "    print(\"Happy Ramdzan!\", friend)\n",
    "print('Done!')"
   ]
  },
  {
   "cell_type": "code",
   "execution_count": 3,
   "id": "273c8598",
   "metadata": {},
   "outputs": [
    {
     "name": "stdout",
     "output_type": "stream",
     "text": [
      "=>stop\n",
      "Done!\n"
     ]
    }
   ],
   "source": [
    "while True:\n",
    "    line = input('=>')\n",
    "    if line == 'stop':\n",
    "        break\n",
    "        prrint(line)\n",
    "print('Done!')"
   ]
  },
  {
   "cell_type": "code",
   "execution_count": 11,
   "id": "dbf04f4e",
   "metadata": {},
   "outputs": [
    {
     "name": "stdout",
     "output_type": "stream",
     "text": [
      "Minimum number is:  10\n",
      "Maximum number is:  60\n"
     ]
    }
   ],
   "source": [
    "number = [10, 20, 30, 40, 50,60]\n",
    "\n",
    "for num in number:\n",
    "    if num >= 60:\n",
    "         print('Maximum number is: ', num)\n",
    "    elif num <= 10:\n",
    "        print('Minimum number is: ', num)\n"
   ]
  },
  {
   "cell_type": "code",
   "execution_count": 16,
   "id": "d4dada79",
   "metadata": {},
   "outputs": [
    {
     "name": "stdout",
     "output_type": "stream",
     "text": [
      "Loop:  10 10\n",
      "Loop:  2 10\n",
      "Loop:  300 300\n",
      "Loop:  40 300\n",
      "Loop:  100 300\n",
      "Loop:  5 300\n",
      "Loop:  15 300\n",
      "Largest number is:  300\n"
     ]
    }
   ],
   "source": [
    "# Fint the largest Number in array\n",
    "largest = None\n",
    "\n",
    "for itervar in [10, 2, 300, 40, 100, 5, 15]:\n",
    "    if largest is None or itervar > largest:       \n",
    "        largest = itervar\n",
    "    print('Loop: ', itervar, largest)    \n",
    "print('Largest number is: ', largest)"
   ]
  },
  {
   "cell_type": "code",
   "execution_count": 17,
   "id": "b4f7a150",
   "metadata": {},
   "outputs": [
    {
     "name": "stdout",
     "output_type": "stream",
     "text": [
      "Loop:  10 10\n",
      "Loop:  2 2\n",
      "Loop:  300 2\n",
      "Loop:  40 2\n",
      "Loop:  100 2\n",
      "Loop:  5 2\n",
      "Loop:  15 2\n",
      "Largest number is:  2\n"
     ]
    }
   ],
   "source": [
    "# Fint the smallest Number in array\n",
    "smallest = None\n",
    "\n",
    "for itervar in [10, 2, 300, 40, 100, 5, 15]:\n",
    "    if smallest is None or itervar < smallest:       \n",
    "        smallest = itervar\n",
    "    print('Loop: ', itervar, smallest)    \n",
    "print('Largest number is: ', smallest)"
   ]
  },
  {
   "cell_type": "code",
   "execution_count": null,
   "id": "ec0ada21",
   "metadata": {},
   "outputs": [],
   "source": [
    "# Fint the largest Number in array\n",
    "number = [10, 2, 300, 40, 100, 5, 15]\n",
    "largest = None\n",
    "\n",
    "for itervar in number:\n",
    "    if largest is None or itervar > largest:       \n",
    "        largest = itervar\n",
    "    print('Loop: ', itervar, largest)    \n",
    "print('Largest number is: ', largest)\n",
    "\n",
    "\n",
    "# Fint the smallest Number in array\n",
    "smallest = None\n",
    "\n",
    "for itervar in number:\n",
    "    if smallest is None or itervar < smallest:       \n",
    "        smallest = itervar\n",
    "    print('Loop: ', itervar, smallest)    \n",
    "print('Largest number is: ', smallest)"
   ]
  }
 ],
 "metadata": {
  "kernelspec": {
   "display_name": "Python 3 (ipykernel)",
   "language": "python",
   "name": "python3"
  },
  "language_info": {
   "codemirror_mode": {
    "name": "ipython",
    "version": 3
   },
   "file_extension": ".py",
   "mimetype": "text/x-python",
   "name": "python",
   "nbconvert_exporter": "python",
   "pygments_lexer": "ipython3",
   "version": "3.10.9"
  }
 },
 "nbformat": 4,
 "nbformat_minor": 5
}
