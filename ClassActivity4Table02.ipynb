{
 "cells": [
  {
   "cell_type": "code",
   "execution_count": 11,
   "id": "fe0eec02",
   "metadata": {},
   "outputs": [
    {
     "name": "stdout",
     "output_type": "stream",
     "text": [
      "The table of 6 is:\n",
      " \n",
      "1 + 6 = 6\n",
      "2 + 6 = 12\n",
      "3 + 6 = 18\n",
      "4 + 6 = 24\n",
      "5 + 6 = 30\n",
      "6 + 6 = 36\n",
      "7 + 6 = 42\n",
      "8 + 6 = 48\n",
      "9 + 6 = 54\n",
      "10 + 6 = 60\n"
     ]
    }
   ],
   "source": [
    "# take a variable \n",
    "count = 1\n",
    "num = 6\n",
    "# Loop\n",
    "print(f\"The table of {num} is:\\n \" )\n",
    "while(count <= 10):\n",
    "    table = count * num\n",
    "    print(f\"{count} + {num} = {table}\")\n",
    "    count += 1\n"
   ]
  },
  {
   "cell_type": "code",
   "execution_count": 16,
   "id": "463ecc43",
   "metadata": {},
   "outputs": [
    {
     "name": "stdout",
     "output_type": "stream",
     "text": [
      "Enter a number: 6\n",
      "Enter the range: 20\n",
      "The table of 6 is:\n",
      " \n",
      "1 + 6 = 6\n",
      "2 + 6 = 12\n",
      "3 + 6 = 18\n",
      "4 + 6 = 24\n",
      "5 + 6 = 30\n",
      "6 + 6 = 36\n",
      "7 + 6 = 42\n",
      "8 + 6 = 48\n",
      "9 + 6 = 54\n",
      "10 + 6 = 60\n",
      "11 + 6 = 66\n",
      "12 + 6 = 72\n",
      "13 + 6 = 78\n",
      "14 + 6 = 84\n",
      "15 + 6 = 90\n",
      "16 + 6 = 96\n",
      "17 + 6 = 102\n",
      "18 + 6 = 108\n",
      "19 + 6 = 114\n",
      "20 + 6 = 120\n"
     ]
    }
   ],
   "source": [
    "# User Define   \n",
    "num = int(input(\"Enter a number: \"))\n",
    "range =int(input(\"Enter the range: \"))\n",
    "i = 1\n",
    "\n",
    "# Loop\n",
    "print(f\"The table of {num} is:\\n \" )\n",
    "while(i <= range):\n",
    "    table = i * num\n",
    "    print(f\"{i} + {num} = {table}\")\n",
    "    i += 1\n"
   ]
  },
  {
   "cell_type": "code",
   "execution_count": 4,
   "id": "edf9d846",
   "metadata": {},
   "outputs": [
    {
     "name": "stdout",
     "output_type": "stream",
     "text": [
      "Enter the number: 7\n",
      "7 x 1 = 7\n",
      "7 x 2 = 14\n",
      "7 x 3 = 21\n",
      "7 x 4 = 28\n",
      "7 x 5 = 35\n",
      "7 x 6 = 42\n",
      "7 x 7 = 49\n",
      "7 x 8 = 56\n",
      "7 x 9 = 63\n",
      "7 x 10 = 70\n"
     ]
    }
   ],
   "source": [
    "# Multiplication table using for loop in Python\n",
    "num = int(input(\"Enter the number: \"))\n",
    "\n",
    "for i in range(1, 11):\n",
    "    print(num, \"x\", i , \"=\", num*i )\n",
    "    "
   ]
  },
  {
   "cell_type": "code",
   "execution_count": 5,
   "id": "dac6aace",
   "metadata": {},
   "outputs": [
    {
     "name": "stdout",
     "output_type": "stream",
     "text": [
      "10\n"
     ]
    }
   ],
   "source": [
    "name = \"Iqra Khan!\"\n",
    "length = len(name)\n",
    "print(length)\n"
   ]
  },
  {
   "cell_type": "code",
   "execution_count": 9,
   "id": "114cdba6",
   "metadata": {},
   "outputs": [
    {
     "name": "stdout",
     "output_type": "stream",
     "text": [
      "Red \n",
      "Apple\n"
     ]
    }
   ],
   "source": [
    "fruit = \"Red Apple\"\n",
    "length = len(fruit)\n",
    "\n",
    "# Red\n",
    "print(fruit[0:4])\n",
    "\n",
    "# Apple\n",
    "print(fruit[4:9])\n"
   ]
  },
  {
   "cell_type": "code",
   "execution_count": 20,
   "id": "8193fca3",
   "metadata": {},
   "outputs": [
    {
     "name": "stdout",
     "output_type": "stream",
     "text": [
      "GreedyShows\n",
      "NewShows\n"
     ]
    }
   ],
   "source": [
    "# replace function\n",
    "name = \"GreedyShows\"\n",
    "old = \"Greedy\"\n",
    "new = \"New\"\n",
    "\n",
    "Name1 = name.replace(old, new)\n",
    "print(name)\n",
    "print(Name1)"
   ]
  },
  {
   "cell_type": "code",
   "execution_count": 17,
   "id": "de7c9dd6",
   "metadata": {},
   "outputs": [
    {
     "name": "stdout",
     "output_type": "stream",
     "text": [
      "Sahr\n",
      "SMASHER\n"
     ]
    }
   ],
   "source": [
    "string1 = \"Gate Smasher\"\n",
    "\n",
    "substr0 = string1[5::2]\n",
    "print(substr0)q \n",
    "\n",
    "substr1 = string1[5:12].upper()\n",
    "print(substr)"
   ]
  },
  {
   "cell_type": "code",
   "execution_count": 22,
   "id": "d1d5d371",
   "metadata": {
    "scrolled": false
   },
   "outputs": [
    {
     "name": "stdout",
     "output_type": "stream",
     "text": [
      "('Hello', 'Are', 'You')\n",
      "Hello Are You\n"
     ]
    }
   ],
   "source": [
    "name = ('Hello', 'Are', 'You')\n",
    "str = ' '.join(name)\n",
    "print(name)\n",
    "print(str)"
   ]
  },
  {
   "cell_type": "code",
   "execution_count": 24,
   "id": "ff1095b7",
   "metadata": {},
   "outputs": [
    {
     "name": "stdout",
     "output_type": "stream",
     "text": [
      "Hello Are You\n",
      "['Hello', 'Are', 'You']\n"
     ]
    }
   ],
   "source": [
    "# Write a python program to convert a given string into a list of words.\n",
    "name = \"Hello Are You\"\n",
    "str = name.split(\" \")\n",
    "print(name)\n",
    "print(str)"
   ]
  },
  {
   "cell_type": "code",
   "execution_count": 25,
   "id": "93b34206",
   "metadata": {},
   "outputs": [
    {
     "name": "stdout",
     "output_type": "stream",
     "text": [
      "hello are you\n"
     ]
    }
   ],
   "source": [
    "# Write a python program to lowercase first n character in a string.\n",
    "string = \"Hello Are You\"\n",
    "lowercase = string.lower()\n",
    "print(lowercase)"
   ]
  },
  {
   "cell_type": "code",
   "execution_count": 1,
   "id": "9aca73ef",
   "metadata": {},
   "outputs": [
    {
     "name": "stdout",
     "output_type": "stream",
     "text": [
      "Vowels in text are:\n",
      "e: 2\n",
      "o: 2\n",
      "A: 1\n",
      "u: 1\n",
      "Total number of vowels: 6\n"
     ]
    }
   ],
   "source": [
    "def count_vowels(text):\n",
    "    # List of vowels to check\n",
    "    vowels = \"aeiouAEIOU\"\n",
    "    \n",
    "    # Dictionary to store the count of each vowel\n",
    "    vowel_count = {}\n",
    "    \n",
    "    # Total number of vowels\n",
    "    total_vowels = 0\n",
    "    \n",
    "    # Iterate over each character in the text\n",
    "    for char in text:\n",
    "        if char in vowels:\n",
    "            # Increment the count for the vowel in the dictionary\n",
    "            if char in vowel_count:\n",
    "                vowel_count[char] += 1\n",
    "            else:\n",
    "                vowel_count[char] = 1\n",
    "            # Increment the total number of vowels\n",
    "            total_vowels += 1\n",
    "    \n",
    "    # Display the results\n",
    "    print(\"Vowels in text are:\")\n",
    "    for vowel, count in vowel_count.items():\n",
    "        print(f\"{vowel}: {count}\")\n",
    "    print(f\"Total number of vowels: {total_vowels}\")\n",
    "\n",
    "# Example usage\n",
    "text = \"Hello Are You\"\n",
    "count_vowels(text)\n"
   ]
  },
  {
   "cell_type": "code",
   "execution_count": 13,
   "id": "300bcc69",
   "metadata": {},
   "outputs": [
    {
     "name": "stdout",
     "output_type": "stream",
     "text": [
      " SMASHER\n",
      "aeSahr\n"
     ]
    }
   ],
   "source": [
    "#Write a Python program to remove the characters which have odd index values of a given string.\n",
    "string1 = \"Gate Smasher\"\n",
    "\n",
    "substr = string1[1::2]\n",
    "print(substr1)\n",
    "\n",
    "substr1 = string1[4:12].upper()\n",
    "print(substr)\n"
   ]
  },
  {
   "cell_type": "code",
   "execution_count": null,
   "id": "18d10c17",
   "metadata": {},
   "outputs": [],
   "source": []
  }
 ],
 "metadata": {
  "kernelspec": {
   "display_name": "Python 3 (ipykernel)",
   "language": "python",
   "name": "python3"
  },
  "language_info": {
   "codemirror_mode": {
    "name": "ipython",
    "version": 3
   },
   "file_extension": ".py",
   "mimetype": "text/x-python",
   "name": "python",
   "nbconvert_exporter": "python",
   "pygments_lexer": "ipython3",
   "version": "3.10.9"
  }
 },
 "nbformat": 4,
 "nbformat_minor": 5
}
