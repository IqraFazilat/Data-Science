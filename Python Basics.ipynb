{
 "cells": [
  {
   "cell_type": "code",
   "execution_count": 14,
   "id": "6168d069-4c5c-45fd-8ffd-d98761b245da",
   "metadata": {},
   "outputs": [
    {
     "name": "stdout",
     "output_type": "stream",
     "text": [
      "Hello World!\n"
     ]
    }
   ],
   "source": [
    "print('Hello World!')"
   ]
  },
  {
   "cell_type": "code",
   "execution_count": 15,
   "id": "51a506bf",
   "metadata": {},
   "outputs": [
    {
     "name": "stdout",
     "output_type": "stream",
     "text": [
      "2\n"
     ]
    }
   ],
   "source": [
    "i=2\n",
    "print(i)"
   ]
  },
  {
   "cell_type": "markdown",
   "id": "a6018c73",
   "metadata": {},
   "source": [
    "create a simple python program to swap variables using three variable.\n"
   ]
  },
  {
   "cell_type": "code",
   "execution_count": 16,
   "id": "92f076fd",
   "metadata": {
    "scrolled": true
   },
   "outputs": [
    {
     "name": "stdin",
     "output_type": "stream",
     "text": [
      "Enter the value of a:  10\n",
      "Enter the value of b:  40\n"
     ]
    },
    {
     "name": "stdout",
     "output_type": "stream",
     "text": [
      "***!Before Swaping!***\n",
      "A=  10\n",
      "B=  40\n",
      "***!Swaping variables!***\n",
      "***!After Swaping!***\n",
      "A=  40\n",
      "B=  10\n"
     ]
    }
   ],
   "source": [
    "# create a simple python program to swap variables using only one variable.\n",
    "\n",
    "a=int(input(\"Enter the value of a: \")) \n",
    "b=int(input(\"Enter the value of b: \")) \n",
    "\n",
    "print(\"***!Before Swaping!***\")\n",
    "print(\"A= \",a)\n",
    "print(\"B= \",b)\n",
    "\n",
    "print(\"***!Swaping variables!***\")\n",
    "a = a + b\n",
    "b = a -b\n",
    "a = a - b\n",
    "\n",
    "print(\"***!After Swaping!***\")\n",
    "print(\"A= \",a)\n",
    "print(\"B= \",b)"
   ]
  },
  {
   "cell_type": "code",
   "execution_count": 18,
   "id": "cf646dc0",
   "metadata": {},
   "outputs": [
    {
     "name": "stdin",
     "output_type": "stream",
     "text": [
      "Enter a string:  what are you doing?\n"
     ]
    },
    {
     "name": "stdout",
     "output_type": "stream",
     "text": [
      "Capitalized text is: What are you doing?\n"
     ]
    }
   ],
   "source": [
    "input_string = input(\"Enter a string: \") \n",
    "result = input_string.capitalize()  \n",
    "capitalized_text = result  \n",
    "print(\"Capitalized text is:\", capitalized_text)  \n"
   ]
  },
  {
   "cell_type": "code",
   "execution_count": null,
   "id": "a8f7c945",
   "metadata": {},
   "outputs": [],
   "source": []
  }
 ],
 "metadata": {
  "kernelspec": {
   "display_name": "Python 3 (ipykernel)",
   "language": "python",
   "name": "python3"
  },
  "language_info": {
   "codemirror_mode": {
    "name": "ipython",
    "version": 3
   },
   "file_extension": ".py",
   "mimetype": "text/x-python",
   "name": "python",
   "nbconvert_exporter": "python",
   "pygments_lexer": "ipython3",
   "version": "3.12.4"
  }
 },
 "nbformat": 4,
 "nbformat_minor": 5
}
